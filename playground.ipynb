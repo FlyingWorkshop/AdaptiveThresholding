{
 "cells": [
  {
   "cell_type": "code",
   "execution_count": 1,
   "metadata": {
    "collapsed": true,
    "pycharm": {
     "name": "#%%\n"
    }
   },
   "outputs": [],
   "source": [
    "import numpy as np"
   ]
  },
  {
   "cell_type": "code",
   "execution_count": 2,
   "outputs": [
    {
     "data": {
      "text/plain": "array([[ 0,  1,  2,  3],\n       [ 4,  5,  6,  7],\n       [ 8,  9, 10, 11],\n       [12, 13, 14, 15]])"
     },
     "execution_count": 2,
     "metadata": {},
     "output_type": "execute_result"
    }
   ],
   "source": [
    "M = np.arange(16).reshape(4, 4)\n",
    "M"
   ],
   "metadata": {
    "collapsed": false,
    "pycharm": {
     "name": "#%%\n"
    }
   }
  },
  {
   "cell_type": "code",
   "execution_count": 3,
   "outputs": [
    {
     "data": {
      "text/plain": "array([[-100, -100, -100, -100, -100, -100, -100, -100],\n       [-100, -100, -100, -100, -100, -100, -100, -100],\n       [-100, -100,    0,    1,    2,    3, -100, -100],\n       [-100, -100,    4,    5,    6,    7, -100, -100],\n       [-100, -100,    8,    9,   10,   11, -100, -100],\n       [-100, -100,   12,   13,   14,   15, -100, -100],\n       [-100, -100, -100, -100, -100, -100, -100, -100],\n       [-100, -100, -100, -100, -100, -100, -100, -100]])"
     },
     "execution_count": 3,
     "metadata": {},
     "output_type": "execute_result"
    }
   ],
   "source": [
    "def pad_with(vector, pad_width, iaxis, kwargs):\n",
    "    pad_value = kwargs.get('padder', 10)\n",
    "    vector[:pad_width[0]] = pad_value\n",
    "    vector[-pad_width[1]:] = pad_value\n",
    "\n",
    "radius = 2\n",
    "padder = -100\n",
    "padded_M = np.pad(M, radius, pad_with, padder=padder)\n",
    "padded_M"
   ],
   "metadata": {
    "collapsed": false,
    "pycharm": {
     "name": "#%%\n"
    }
   }
  },
  {
   "cell_type": "code",
   "execution_count": 28,
   "outputs": [
    {
     "data": {
      "text/plain": "array([[ 0,  1,  2,  3],\n       [ 4,  5,  6,  7],\n       [ 8,  9, 10, 11],\n       [12, 13, 14, 15]])"
     },
     "execution_count": 28,
     "metadata": {},
     "output_type": "execute_result"
    }
   ],
   "source": [
    "M"
   ],
   "metadata": {
    "collapsed": false,
    "pycharm": {
     "name": "#%%\n"
    }
   }
  },
  {
   "cell_type": "code",
   "execution_count": 34,
   "outputs": [
    {
     "name": "stdout",
     "output_type": "stream",
     "text": [
      "y_min=0, y_max=3\n",
      "x_min=0, x_max=3\n",
      "[[ 0  1  2]\n",
      " [ 4  5  6]\n",
      " [ 8  9 10]]\n",
      "i=0, j=0\n",
      "center=0, M[i, j]=0\n",
      "accurate_center=True\n",
      "\n",
      "x_min=0, x_max=4\n",
      "[[ 0  1  2  3]\n",
      " [ 4  5  6  7]\n",
      " [ 8  9 10 11]]\n",
      "i=0, j=1\n",
      "center=1, M[i, j]=1\n",
      "accurate_center=True\n",
      "\n",
      "x_min=0, x_max=4\n",
      "[[ 0  1  2  3]\n",
      " [ 4  5  6  7]\n",
      " [ 8  9 10 11]]\n",
      "i=0, j=2\n",
      "center=2, M[i, j]=2\n",
      "accurate_center=True\n",
      "\n",
      "x_min=1, x_max=4\n",
      "[[ 1  2  3]\n",
      " [ 5  6  7]\n",
      " [ 9 10 11]]\n",
      "i=0, j=3\n",
      "center=3, M[i, j]=3\n",
      "accurate_center=True\n",
      "\n",
      "y_min=0, y_max=4\n",
      "x_min=0, x_max=3\n",
      "[[ 0  1  2]\n",
      " [ 4  5  6]\n",
      " [ 8  9 10]\n",
      " [12 13 14]]\n",
      "i=1, j=0\n",
      "center=4, M[i, j]=4\n",
      "accurate_center=True\n",
      "\n",
      "x_min=0, x_max=4\n",
      "[[ 0  1  2  3]\n",
      " [ 4  5  6  7]\n",
      " [ 8  9 10 11]\n",
      " [12 13 14 15]]\n",
      "i=1, j=1\n",
      "center=5, M[i, j]=5\n",
      "accurate_center=True\n",
      "\n",
      "x_min=0, x_max=4\n",
      "[[ 0  1  2  3]\n",
      " [ 4  5  6  7]\n",
      " [ 8  9 10 11]\n",
      " [12 13 14 15]]\n",
      "i=1, j=2\n",
      "center=6, M[i, j]=6\n",
      "accurate_center=True\n",
      "\n",
      "x_min=1, x_max=4\n",
      "[[ 1  2  3]\n",
      " [ 5  6  7]\n",
      " [ 9 10 11]\n",
      " [13 14 15]]\n",
      "i=1, j=3\n",
      "center=7, M[i, j]=7\n",
      "accurate_center=True\n",
      "\n",
      "y_min=0, y_max=4\n",
      "x_min=0, x_max=3\n",
      "[[ 0  1  2]\n",
      " [ 4  5  6]\n",
      " [ 8  9 10]\n",
      " [12 13 14]]\n",
      "i=2, j=0\n",
      "center=8, M[i, j]=8\n",
      "accurate_center=True\n",
      "\n",
      "x_min=0, x_max=4\n",
      "[[ 0  1  2  3]\n",
      " [ 4  5  6  7]\n",
      " [ 8  9 10 11]\n",
      " [12 13 14 15]]\n",
      "i=2, j=1\n",
      "center=9, M[i, j]=9\n",
      "accurate_center=True\n",
      "\n",
      "x_min=0, x_max=4\n",
      "[[ 0  1  2  3]\n",
      " [ 4  5  6  7]\n",
      " [ 8  9 10 11]\n",
      " [12 13 14 15]]\n",
      "i=2, j=2\n",
      "center=10, M[i, j]=10\n",
      "accurate_center=True\n",
      "\n",
      "x_min=1, x_max=4\n",
      "[[ 1  2  3]\n",
      " [ 5  6  7]\n",
      " [ 9 10 11]\n",
      " [13 14 15]]\n",
      "i=2, j=3\n",
      "center=11, M[i, j]=11\n",
      "accurate_center=True\n",
      "\n",
      "y_min=1, y_max=4\n",
      "x_min=0, x_max=3\n",
      "[[ 4  5  6]\n",
      " [ 8  9 10]\n",
      " [12 13 14]]\n",
      "i=3, j=0\n",
      "center=12, M[i, j]=12\n",
      "accurate_center=True\n",
      "\n",
      "x_min=0, x_max=4\n",
      "[[ 4  5  6  7]\n",
      " [ 8  9 10 11]\n",
      " [12 13 14 15]]\n",
      "i=3, j=1\n",
      "center=13, M[i, j]=13\n",
      "accurate_center=True\n",
      "\n",
      "x_min=0, x_max=4\n",
      "[[ 4  5  6  7]\n",
      " [ 8  9 10 11]\n",
      " [12 13 14 15]]\n",
      "i=3, j=2\n",
      "center=14, M[i, j]=14\n",
      "accurate_center=True\n",
      "\n",
      "x_min=1, x_max=4\n",
      "[[ 5  6  7]\n",
      " [ 9 10 11]\n",
      " [13 14 15]]\n",
      "i=3, j=3\n",
      "center=15, M[i, j]=15\n",
      "accurate_center=True\n",
      "\n",
      "{(4, 4), True, (3, 4), (4, 3), (3, 3)}\n"
     ]
    }
   ],
   "source": [
    "max_row, max_col = M.shape\n",
    "shapes = set()\n",
    "for i, row in enumerate(M):\n",
    "    y_min = max(0, i - radius)\n",
    "    y_max = min(max_row, i + radius + 1)\n",
    "    print(f\"{y_min=}, {y_max=}\")\n",
    "    for j, elem in enumerate(row):\n",
    "        x_min = max(0, j - radius)\n",
    "        x_max = min(max_col, j + radius + 1)\n",
    "        print(f\"{x_min=}, {x_max=}\")\n",
    "        window = M[y_min:y_max, x_min:x_max]\n",
    "        center = window[i - y_min, j - x_min]\n",
    "        print(window)\n",
    "        print(f\"{i=}, {j=}\")\n",
    "        print(f\"{center=}, {M[i, j]=}\")\n",
    "        accurate_center = (center == M[i, j])\n",
    "        print(f\"{accurate_center=}\")\n",
    "        print()\n",
    "        shapes.add(window.shape)\n",
    "        shapes.add(accurate_center)\n",
    "print(shapes)"
   ],
   "metadata": {
    "collapsed": false,
    "pycharm": {
     "name": "#%%\n"
    }
   }
  },
  {
   "cell_type": "code",
   "execution_count": 24,
   "outputs": [
    {
     "name": "stdout",
     "output_type": "stream",
     "text": [
      "[[-100 -100 -100 -100 -100]\n",
      " [-100 -100 -100 -100 -100]\n",
      " [-100 -100    0    1    2]\n",
      " [-100 -100    4    5    6]\n",
      " [-100 -100    8    9   10]]\n",
      "i=2, j=2\n",
      "center=0 padded_M[i, j]=0\n",
      "accurate_center=True\n",
      "\n",
      "[[-100 -100 -100 -100 -100]\n",
      " [-100 -100 -100 -100 -100]\n",
      " [-100    0    1    2    3]\n",
      " [-100    4    5    6    7]\n",
      " [-100    8    9   10   11]]\n",
      "i=2, j=3\n",
      "center=1 padded_M[i, j]=1\n",
      "accurate_center=True\n",
      "\n",
      "[[-100 -100 -100 -100 -100]\n",
      " [-100 -100 -100 -100 -100]\n",
      " [   0    1    2    3 -100]\n",
      " [   4    5    6    7 -100]\n",
      " [   8    9   10   11 -100]]\n",
      "i=2, j=4\n",
      "center=2 padded_M[i, j]=2\n",
      "accurate_center=True\n",
      "\n",
      "[[-100 -100 -100 -100 -100]\n",
      " [-100 -100 -100 -100 -100]\n",
      " [   1    2    3 -100 -100]\n",
      " [   5    6    7 -100 -100]\n",
      " [   9   10   11 -100 -100]]\n",
      "i=2, j=5\n",
      "center=3 padded_M[i, j]=3\n",
      "accurate_center=True\n",
      "\n",
      "[[-100 -100 -100 -100 -100]\n",
      " [-100 -100    0    1    2]\n",
      " [-100 -100    4    5    6]\n",
      " [-100 -100    8    9   10]\n",
      " [-100 -100   12   13   14]]\n",
      "i=3, j=2\n",
      "center=4 padded_M[i, j]=4\n",
      "accurate_center=True\n",
      "\n",
      "[[-100 -100 -100 -100 -100]\n",
      " [-100    0    1    2    3]\n",
      " [-100    4    5    6    7]\n",
      " [-100    8    9   10   11]\n",
      " [-100   12   13   14   15]]\n",
      "i=3, j=3\n",
      "center=5 padded_M[i, j]=5\n",
      "accurate_center=True\n",
      "\n",
      "[[-100 -100 -100 -100 -100]\n",
      " [   0    1    2    3 -100]\n",
      " [   4    5    6    7 -100]\n",
      " [   8    9   10   11 -100]\n",
      " [  12   13   14   15 -100]]\n",
      "i=3, j=4\n",
      "center=6 padded_M[i, j]=6\n",
      "accurate_center=True\n",
      "\n",
      "[[-100 -100 -100 -100 -100]\n",
      " [   1    2    3 -100 -100]\n",
      " [   5    6    7 -100 -100]\n",
      " [   9   10   11 -100 -100]\n",
      " [  13   14   15 -100 -100]]\n",
      "i=3, j=5\n",
      "center=7 padded_M[i, j]=7\n",
      "accurate_center=True\n",
      "\n",
      "[[-100 -100    0    1    2]\n",
      " [-100 -100    4    5    6]\n",
      " [-100 -100    8    9   10]\n",
      " [-100 -100   12   13   14]\n",
      " [-100 -100 -100 -100 -100]]\n",
      "i=4, j=2\n",
      "center=8 padded_M[i, j]=8\n",
      "accurate_center=True\n",
      "\n",
      "[[-100    0    1    2    3]\n",
      " [-100    4    5    6    7]\n",
      " [-100    8    9   10   11]\n",
      " [-100   12   13   14   15]\n",
      " [-100 -100 -100 -100 -100]]\n",
      "i=4, j=3\n",
      "center=9 padded_M[i, j]=9\n",
      "accurate_center=True\n",
      "\n",
      "[[   0    1    2    3 -100]\n",
      " [   4    5    6    7 -100]\n",
      " [   8    9   10   11 -100]\n",
      " [  12   13   14   15 -100]\n",
      " [-100 -100 -100 -100 -100]]\n",
      "i=4, j=4\n",
      "center=10 padded_M[i, j]=10\n",
      "accurate_center=True\n",
      "\n",
      "[[   1    2    3 -100 -100]\n",
      " [   5    6    7 -100 -100]\n",
      " [   9   10   11 -100 -100]\n",
      " [  13   14   15 -100 -100]\n",
      " [-100 -100 -100 -100 -100]]\n",
      "i=4, j=5\n",
      "center=11 padded_M[i, j]=11\n",
      "accurate_center=True\n",
      "\n",
      "[[-100 -100    4    5    6]\n",
      " [-100 -100    8    9   10]\n",
      " [-100 -100   12   13   14]\n",
      " [-100 -100 -100 -100 -100]\n",
      " [-100 -100 -100 -100 -100]]\n",
      "i=5, j=2\n",
      "center=12 padded_M[i, j]=12\n",
      "accurate_center=True\n",
      "\n",
      "[[-100    4    5    6    7]\n",
      " [-100    8    9   10   11]\n",
      " [-100   12   13   14   15]\n",
      " [-100 -100 -100 -100 -100]\n",
      " [-100 -100 -100 -100 -100]]\n",
      "i=5, j=3\n",
      "center=13 padded_M[i, j]=13\n",
      "accurate_center=True\n",
      "\n",
      "[[   4    5    6    7 -100]\n",
      " [   8    9   10   11 -100]\n",
      " [  12   13   14   15 -100]\n",
      " [-100 -100 -100 -100 -100]\n",
      " [-100 -100 -100 -100 -100]]\n",
      "i=5, j=4\n",
      "center=14 padded_M[i, j]=14\n",
      "accurate_center=True\n",
      "\n",
      "[[   5    6    7 -100 -100]\n",
      " [   9   10   11 -100 -100]\n",
      " [  13   14   15 -100 -100]\n",
      " [-100 -100 -100 -100 -100]\n",
      " [-100 -100 -100 -100 -100]]\n",
      "i=5, j=5\n",
      "center=15 padded_M[i, j]=15\n",
      "accurate_center=True\n",
      "\n",
      "{True, (5, 5)}\n"
     ]
    }
   ],
   "source": [
    "max_row, max_col = padded_M.shape\n",
    "shapes = set()\n",
    "for i, row in enumerate(padded_M):\n",
    "    if i < radius or i >= radius + M.shape[0]:  # skip window if center is padding\n",
    "        continue\n",
    "    # y_min = max(0, i - radius)\n",
    "    # y_max = min(max_row, i + radius + 1)\n",
    "    # print(f\"{y_min=}, {y_max=}\")\n",
    "    for j, elem in enumerate(row):\n",
    "        if j < radius or j >= radius + M.shape[1]:\n",
    "            continue\n",
    "        # x_min = max(0, j - radius)\n",
    "        # x_max = min(max_col, j + radius + 1)\n",
    "        # print(f\"{x_min=}, {x_max=}\")\n",
    "        # window = padded_M[y_min:y_max, x_min:x_max]\n",
    "        # center = window[i - y_min, j - x_min]\n",
    "        window = padded_M[i - radius: i + radius + 1, j - radius: j + radius + 1]\n",
    "        center = window[radius, radius]\n",
    "        print(window)\n",
    "        print(f\"{i=}, {j=}\")\n",
    "        print(f\"{center=}\", f\"{padded_M[i, j]=}\")\n",
    "        accurate_center = (center != padder) and (padded_M[i, j] == center)\n",
    "        print(f\"{accurate_center=}\")\n",
    "        print()\n",
    "        shapes.add(window.shape)\n",
    "        shapes.add(accurate_center)\n",
    "print(shapes)"
   ],
   "metadata": {
    "collapsed": false,
    "pycharm": {
     "name": "#%%\n"
    }
   }
  },
  {
   "cell_type": "code",
   "execution_count": 5,
   "outputs": [
    {
     "name": "stdout",
     "output_type": "stream",
     "text": [
      "[[-100 -100]\n",
      " [-100 -100]]\n",
      "\n",
      "[[-100 -100 -100]\n",
      " [-100 -100 -100]]\n",
      "\n",
      "[[-100 -100 -100 -100]\n",
      " [-100 -100 -100 -100]]\n",
      "\n",
      "[[-100 -100 -100 -100]\n",
      " [-100 -100 -100 -100]]\n",
      "\n",
      "[[-100 -100 -100 -100]\n",
      " [-100 -100 -100 -100]]\n",
      "\n",
      "[[-100 -100 -100 -100]\n",
      " [-100 -100 -100 -100]]\n",
      "\n",
      "[[-100 -100 -100 -100]\n",
      " [-100 -100 -100 -100]]\n",
      "\n",
      "[[-100 -100 -100]\n",
      " [-100 -100 -100]]\n",
      "\n",
      "[[-100 -100]\n",
      " [-100 -100]\n",
      " [-100 -100]]\n",
      "\n",
      "[[-100 -100 -100]\n",
      " [-100 -100 -100]\n",
      " [-100 -100    0]]\n",
      "\n",
      "[[-100 -100 -100 -100]\n",
      " [-100 -100 -100 -100]\n",
      " [-100 -100    0    1]]\n",
      "\n",
      "[[-100 -100 -100 -100]\n",
      " [-100 -100 -100 -100]\n",
      " [-100    0    1    2]]\n",
      "\n",
      "[[-100 -100 -100 -100]\n",
      " [-100 -100 -100 -100]\n",
      " [   0    1    2    3]]\n",
      "\n",
      "[[-100 -100 -100 -100]\n",
      " [-100 -100 -100 -100]\n",
      " [   1    2    3 -100]]\n",
      "\n",
      "[[-100 -100 -100 -100]\n",
      " [-100 -100 -100 -100]\n",
      " [   2    3 -100 -100]]\n",
      "\n",
      "[[-100 -100 -100]\n",
      " [-100 -100 -100]\n",
      " [   3 -100 -100]]\n",
      "\n",
      "[[-100 -100]\n",
      " [-100 -100]\n",
      " [-100 -100]\n",
      " [-100 -100]]\n",
      "\n",
      "[[-100 -100 -100]\n",
      " [-100 -100 -100]\n",
      " [-100 -100    0]\n",
      " [-100 -100    4]]\n",
      "\n",
      "[[-100 -100 -100 -100]\n",
      " [-100 -100 -100 -100]\n",
      " [-100 -100    0    1]\n",
      " [-100 -100    4    5]]\n",
      "\n",
      "[[-100 -100 -100 -100]\n",
      " [-100 -100 -100 -100]\n",
      " [-100    0    1    2]\n",
      " [-100    4    5    6]]\n",
      "\n",
      "[[-100 -100 -100 -100]\n",
      " [-100 -100 -100 -100]\n",
      " [   0    1    2    3]\n",
      " [   4    5    6    7]]\n",
      "\n",
      "[[-100 -100 -100 -100]\n",
      " [-100 -100 -100 -100]\n",
      " [   1    2    3 -100]\n",
      " [   5    6    7 -100]]\n",
      "\n",
      "[[-100 -100 -100 -100]\n",
      " [-100 -100 -100 -100]\n",
      " [   2    3 -100 -100]\n",
      " [   6    7 -100 -100]]\n",
      "\n",
      "[[-100 -100 -100]\n",
      " [-100 -100 -100]\n",
      " [   3 -100 -100]\n",
      " [   7 -100 -100]]\n",
      "\n",
      "[[-100 -100]\n",
      " [-100 -100]\n",
      " [-100 -100]\n",
      " [-100 -100]]\n",
      "\n",
      "[[-100 -100 -100]\n",
      " [-100 -100    0]\n",
      " [-100 -100    4]\n",
      " [-100 -100    8]]\n",
      "\n",
      "[[-100 -100 -100 -100]\n",
      " [-100 -100    0    1]\n",
      " [-100 -100    4    5]\n",
      " [-100 -100    8    9]]\n",
      "\n",
      "[[-100 -100 -100 -100]\n",
      " [-100    0    1    2]\n",
      " [-100    4    5    6]\n",
      " [-100    8    9   10]]\n",
      "\n",
      "[[-100 -100 -100 -100]\n",
      " [   0    1    2    3]\n",
      " [   4    5    6    7]\n",
      " [   8    9   10   11]]\n",
      "\n",
      "[[-100 -100 -100 -100]\n",
      " [   1    2    3 -100]\n",
      " [   5    6    7 -100]\n",
      " [   9   10   11 -100]]\n",
      "\n",
      "[[-100 -100 -100 -100]\n",
      " [   2    3 -100 -100]\n",
      " [   6    7 -100 -100]\n",
      " [  10   11 -100 -100]]\n",
      "\n",
      "[[-100 -100 -100]\n",
      " [   3 -100 -100]\n",
      " [   7 -100 -100]\n",
      " [  11 -100 -100]]\n",
      "\n",
      "[[-100 -100]\n",
      " [-100 -100]\n",
      " [-100 -100]\n",
      " [-100 -100]]\n",
      "\n",
      "[[-100 -100    0]\n",
      " [-100 -100    4]\n",
      " [-100 -100    8]\n",
      " [-100 -100   12]]\n",
      "\n",
      "[[-100 -100    0    1]\n",
      " [-100 -100    4    5]\n",
      " [-100 -100    8    9]\n",
      " [-100 -100   12   13]]\n",
      "\n",
      "[[-100    0    1    2]\n",
      " [-100    4    5    6]\n",
      " [-100    8    9   10]\n",
      " [-100   12   13   14]]\n",
      "\n",
      "[[ 0  1  2  3]\n",
      " [ 4  5  6  7]\n",
      " [ 8  9 10 11]\n",
      " [12 13 14 15]]\n",
      "\n",
      "[[   1    2    3 -100]\n",
      " [   5    6    7 -100]\n",
      " [   9   10   11 -100]\n",
      " [  13   14   15 -100]]\n",
      "\n",
      "[[   2    3 -100 -100]\n",
      " [   6    7 -100 -100]\n",
      " [  10   11 -100 -100]\n",
      " [  14   15 -100 -100]]\n",
      "\n",
      "[[   3 -100 -100]\n",
      " [   7 -100 -100]\n",
      " [  11 -100 -100]\n",
      " [  15 -100 -100]]\n",
      "\n",
      "[[-100 -100]\n",
      " [-100 -100]\n",
      " [-100 -100]\n",
      " [-100 -100]]\n",
      "\n",
      "[[-100 -100    4]\n",
      " [-100 -100    8]\n",
      " [-100 -100   12]\n",
      " [-100 -100 -100]]\n",
      "\n",
      "[[-100 -100    4    5]\n",
      " [-100 -100    8    9]\n",
      " [-100 -100   12   13]\n",
      " [-100 -100 -100 -100]]\n",
      "\n",
      "[[-100    4    5    6]\n",
      " [-100    8    9   10]\n",
      " [-100   12   13   14]\n",
      " [-100 -100 -100 -100]]\n",
      "\n",
      "[[   4    5    6    7]\n",
      " [   8    9   10   11]\n",
      " [  12   13   14   15]\n",
      " [-100 -100 -100 -100]]\n",
      "\n",
      "[[   5    6    7 -100]\n",
      " [   9   10   11 -100]\n",
      " [  13   14   15 -100]\n",
      " [-100 -100 -100 -100]]\n",
      "\n",
      "[[   6    7 -100 -100]\n",
      " [  10   11 -100 -100]\n",
      " [  14   15 -100 -100]\n",
      " [-100 -100 -100 -100]]\n",
      "\n",
      "[[   7 -100 -100]\n",
      " [  11 -100 -100]\n",
      " [  15 -100 -100]\n",
      " [-100 -100 -100]]\n",
      "\n",
      "[[-100 -100]\n",
      " [-100 -100]\n",
      " [-100 -100]\n",
      " [-100 -100]]\n",
      "\n",
      "[[-100 -100    8]\n",
      " [-100 -100   12]\n",
      " [-100 -100 -100]\n",
      " [-100 -100 -100]]\n",
      "\n",
      "[[-100 -100    8    9]\n",
      " [-100 -100   12   13]\n",
      " [-100 -100 -100 -100]\n",
      " [-100 -100 -100 -100]]\n",
      "\n",
      "[[-100    8    9   10]\n",
      " [-100   12   13   14]\n",
      " [-100 -100 -100 -100]\n",
      " [-100 -100 -100 -100]]\n",
      "\n",
      "[[   8    9   10   11]\n",
      " [  12   13   14   15]\n",
      " [-100 -100 -100 -100]\n",
      " [-100 -100 -100 -100]]\n",
      "\n",
      "[[   9   10   11 -100]\n",
      " [  13   14   15 -100]\n",
      " [-100 -100 -100 -100]\n",
      " [-100 -100 -100 -100]]\n",
      "\n",
      "[[  10   11 -100 -100]\n",
      " [  14   15 -100 -100]\n",
      " [-100 -100 -100 -100]\n",
      " [-100 -100 -100 -100]]\n",
      "\n",
      "[[  11 -100 -100]\n",
      " [  15 -100 -100]\n",
      " [-100 -100 -100]\n",
      " [-100 -100 -100]]\n",
      "\n",
      "[[-100 -100]\n",
      " [-100 -100]\n",
      " [-100 -100]]\n",
      "\n",
      "[[-100 -100   12]\n",
      " [-100 -100 -100]\n",
      " [-100 -100 -100]]\n",
      "\n",
      "[[-100 -100   12   13]\n",
      " [-100 -100 -100 -100]\n",
      " [-100 -100 -100 -100]]\n",
      "\n",
      "[[-100   12   13   14]\n",
      " [-100 -100 -100 -100]\n",
      " [-100 -100 -100 -100]]\n",
      "\n",
      "[[  12   13   14   15]\n",
      " [-100 -100 -100 -100]\n",
      " [-100 -100 -100 -100]]\n",
      "\n",
      "[[  13   14   15 -100]\n",
      " [-100 -100 -100 -100]\n",
      " [-100 -100 -100 -100]]\n",
      "\n",
      "[[  14   15 -100 -100]\n",
      " [-100 -100 -100 -100]\n",
      " [-100 -100 -100 -100]]\n",
      "\n",
      "[[  15 -100 -100]\n",
      " [-100 -100 -100]\n",
      " [-100 -100 -100]]\n",
      "\n"
     ]
    }
   ],
   "source": [
    "# TODO: redo window code\n",
    "max_row, max_col = padded_M.shape\n",
    "for i, row in enumerate(padded_M):\n",
    "    ymin = max(0, i - radius)\n",
    "    ymax = min(max_row, i + radius)\n",
    "    for j, center in enumerate(row):\n",
    "        xmin = max(0, j - radius)\n",
    "        xmax = min(max_col, j + radius)\n",
    "        window = padded_M[ymin:ymax, xmin:xmax]\n",
    "        print(window)\n",
    "        print()"
   ],
   "metadata": {
    "collapsed": false,
    "pycharm": {
     "name": "#%%\n"
    }
   }
  },
  {
   "cell_type": "code",
   "execution_count": 6,
   "outputs": [
    {
     "data": {
      "text/plain": "array([[0, 1, 2],\n       [3, 4, 5],\n       [6, 7, 8]])"
     },
     "execution_count": 6,
     "metadata": {},
     "output_type": "execute_result"
    }
   ],
   "source": [
    "A = np.array([\n",
    "    [0, 1, 2],\n",
    "    [3, 4, 5],\n",
    "    [6, 7, 8]\n",
    "])\n",
    "A"
   ],
   "metadata": {
    "collapsed": false,
    "pycharm": {
     "name": "#%%\n"
    }
   }
  },
  {
   "cell_type": "code",
   "execution_count": 7,
   "outputs": [
    {
     "data": {
      "text/plain": "9"
     },
     "execution_count": 7,
     "metadata": {},
     "output_type": "execute_result"
    }
   ],
   "source": [
    "np.sum(A == A)"
   ],
   "metadata": {
    "collapsed": false,
    "pycharm": {
     "name": "#%%\n"
    }
   }
  },
  {
   "cell_type": "code",
   "execution_count": 8,
   "outputs": [
    {
     "data": {
      "text/plain": "array([2, 5, 8])"
     },
     "execution_count": 8,
     "metadata": {},
     "output_type": "execute_result"
    }
   ],
   "source": [
    "A[[0, 1, 2], [2, 2, 2]]"
   ],
   "metadata": {
    "collapsed": false,
    "pycharm": {
     "name": "#%%\n"
    }
   }
  },
  {
   "cell_type": "code",
   "execution_count": 9,
   "outputs": [
    {
     "name": "stdout",
     "output_type": "stream",
     "text": [
      "<class 'tuple'>\n",
      "<class 'tuple'>\n",
      "<class 'tuple'>\n",
      "<class 'tuple'>\n",
      "<class 'tuple'>\n"
     ]
    }
   ],
   "source": [
    "for source in list(zip(*np.where(A < 5))):\n",
    "    print(type(source))"
   ],
   "metadata": {
    "collapsed": false,
    "pycharm": {
     "name": "#%%\n"
    }
   }
  },
  {
   "cell_type": "code",
   "execution_count": 10,
   "outputs": [
    {
     "data": {
      "text/plain": "array([0, 0, 0, 1, 1, 1, 2, 2, 2, 3, 3, 3, 4, 4, 4, 5, 5, 5, 6, 6, 6, 7,\n       7, 7, 8, 8, 8])"
     },
     "execution_count": 10,
     "metadata": {},
     "output_type": "execute_result"
    }
   ],
   "source": [
    "A.repeat(3)"
   ],
   "metadata": {
    "collapsed": false,
    "pycharm": {
     "name": "#%%\n"
    }
   }
  },
  {
   "cell_type": "code",
   "execution_count": 11,
   "outputs": [
    {
     "data": {
      "text/plain": "(array([0, 0, 0, 1, 1]), array([0, 1, 2, 0, 1]))"
     },
     "execution_count": 11,
     "metadata": {},
     "output_type": "execute_result"
    }
   ],
   "source": [
    "np.where(A < 5)"
   ],
   "metadata": {
    "collapsed": false,
    "pycharm": {
     "name": "#%%\n"
    }
   }
  },
  {
   "cell_type": "code",
   "execution_count": 12,
   "outputs": [
    {
     "name": "stdout",
     "output_type": "stream",
     "text": [
      "[[[0 1]\n",
      "  [3 4]]\n",
      "\n",
      " [[1 2]\n",
      "  [4 5]]]\n",
      "---\n",
      "[[[3 4]\n",
      "  [6 7]]\n",
      "\n",
      " [[4 5]\n",
      "  [7 8]]]\n",
      "---\n"
     ]
    }
   ],
   "source": [
    "sliding_window_view = np.lib.stride_tricks.sliding_window_view(A, window_shape=(2, 2))\n",
    "for window in sliding_window_view:\n",
    "    print(window)\n",
    "    print(\"---\")"
   ],
   "metadata": {
    "collapsed": false,
    "pycharm": {
     "name": "#%%\n"
    }
   }
  },
  {
   "cell_type": "code",
   "execution_count": 13,
   "outputs": [
    {
     "data": {
      "text/plain": "10"
     },
     "execution_count": 13,
     "metadata": {},
     "output_type": "execute_result"
    }
   ],
   "source": [
    "A[A < 5].sum()"
   ],
   "metadata": {
    "collapsed": false,
    "pycharm": {
     "name": "#%%\n"
    }
   }
  },
  {
   "cell_type": "code",
   "execution_count": 14,
   "outputs": [
    {
     "data": {
      "text/plain": "array([3., 4., 5.])"
     },
     "execution_count": 14,
     "metadata": {},
     "output_type": "execute_result"
    }
   ],
   "source": [
    "A.mean(axis=0)  # columns"
   ],
   "metadata": {
    "collapsed": false,
    "pycharm": {
     "name": "#%%\n"
    }
   }
  },
  {
   "cell_type": "code",
   "execution_count": 15,
   "outputs": [
    {
     "data": {
      "text/plain": "array([1., 4., 7.])"
     },
     "execution_count": 15,
     "metadata": {},
     "output_type": "execute_result"
    }
   ],
   "source": [
    "A.mean(axis=1)  # rows"
   ],
   "metadata": {
    "collapsed": false,
    "pycharm": {
     "name": "#%%\n"
    }
   }
  },
  {
   "cell_type": "code",
   "execution_count": 16,
   "outputs": [],
   "source": [
    "B = np.array([\n",
    "    [[0, 0, 0], [1, 1, 1], [2, 2, 2]],\n",
    "    [[3, 3, 3], [4, 4, 4], [5, 5, 5]],\n",
    "    [[6, 6, 6], [7, 7, 7], [8, 8, 8]]\n",
    "])"
   ],
   "metadata": {
    "collapsed": false,
    "pycharm": {
     "name": "#%%\n"
    }
   }
  },
  {
   "cell_type": "code",
   "execution_count": 17,
   "outputs": [
    {
     "data": {
      "text/plain": "array([[0., 1., 2.],\n       [3., 4., 5.],\n       [6., 7., 8.]])"
     },
     "execution_count": 17,
     "metadata": {},
     "output_type": "execute_result"
    }
   ],
   "source": [
    "mean = B.mean(axis=2)\n",
    "mean"
   ],
   "metadata": {
    "collapsed": false,
    "pycharm": {
     "name": "#%%\n"
    }
   }
  },
  {
   "cell_type": "code",
   "execution_count": 18,
   "outputs": [
    {
     "data": {
      "text/plain": "array([4., 4., 4.])"
     },
     "execution_count": 18,
     "metadata": {},
     "output_type": "execute_result"
    }
   ],
   "source": [
    "np.mean(B, axis=(0, 1))"
   ],
   "metadata": {
    "collapsed": false,
    "pycharm": {
     "name": "#%%\n"
    }
   }
  },
  {
   "cell_type": "code",
   "execution_count": 19,
   "outputs": [
    {
     "data": {
      "text/plain": "array([[[0., 0., 0.],\n        [1., 1., 1.],\n        [2., 2., 2.]],\n\n       [[3., 3., 3.],\n        [4., 4., 4.],\n        [5., 5., 5.]],\n\n       [[6., 6., 6.],\n        [7., 7., 7.],\n        [8., 8., 8.]]])"
     },
     "execution_count": 19,
     "metadata": {},
     "output_type": "execute_result"
    }
   ],
   "source": [
    "np.repeat(mean, 3).reshape(B.shape)"
   ],
   "metadata": {
    "collapsed": false,
    "pycharm": {
     "name": "#%%\n"
    }
   }
  }
 ],
 "metadata": {
  "kernelspec": {
   "display_name": "Python 3",
   "language": "python",
   "name": "python3"
  },
  "language_info": {
   "codemirror_mode": {
    "name": "ipython",
    "version": 2
   },
   "file_extension": ".py",
   "mimetype": "text/x-python",
   "name": "python",
   "nbconvert_exporter": "python",
   "pygments_lexer": "ipython2",
   "version": "2.7.6"
  }
 },
 "nbformat": 4,
 "nbformat_minor": 0
}